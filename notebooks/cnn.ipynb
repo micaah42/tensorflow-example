{
 "cells": [
  {
   "cell_type": "code",
   "execution_count": null,
   "metadata": {
    "pycharm": {
     "name": "#%%\n"
    }
   },
   "outputs": [],
   "source": [
    "import os\n",
    "import glob\n",
    "import random\n",
    "import datetime\n",
    "\n",
    "import poppler\n",
    "import numpy as np\n",
    "import tensorflow as tf\n",
    "import matplotlib.pyplot as plt\n",
    "\n",
    "from PIL import Image\n",
    "from IPython.display import display"
   ]
  },
  {
   "cell_type": "code",
   "execution_count": null,
   "metadata": {
    "pycharm": {
     "name": "#%%\n"
    }
   },
   "outputs": [],
   "source": [
    "# download a few pdfs into resources folder\n",
    "os.system('wget -P ../resources --no-clobber --no-verbose ' +\n",
    "          'https://www.uibk.ac.at/mathematik/personal/hell/pdfs/skripten/analysis1videohellostermannws16.pdf ' +\n",
    "          'https://www.mdy.univie.ac.at/lehre/mathe/skriptum/skrip2b.pdf ' +\n",
    "          'https://www.jku.at/fileadmin/gruppen/194/lokalkonvexe.pdf ' +\n",
    "          'https://www.jku.at/fileadmin/gruppen/194/Lehre/Analysis_1_2017.pdf ' +\n",
    "          'https://www.jku.at/fileadmin/gruppen/194/Lehre/PseudoSkript_ger.pdf'\n",
    ")"
   ]
  },
  {
   "cell_type": "code",
   "execution_count": null,
   "metadata": {
    "pycharm": {
     "name": "#%%\n"
    }
   },
   "outputs": [],
   "source": [
    "N_SAMPLES = 10000\n",
    "RESOLUTION = 64\n",
    "INPUT_SIZE = 192"
   ]
  },
  {
   "cell_type": "code",
   "execution_count": null,
   "metadata": {
    "pycharm": {
     "name": "#%%\n"
    }
   },
   "outputs": [],
   "source": [
    "print(tf.config.list_physical_devices('GPU'))"
   ]
  },
  {
   "cell_type": "code",
   "execution_count": null,
   "metadata": {
    "pycharm": {
     "name": "#%%\n"
    }
   },
   "outputs": [],
   "source": [
    "renderer = poppler.PageRenderer()\n",
    "\n",
    "\n",
    "def render_page(pdf_page, res) -> Image:\n",
    "    pimg = renderer.render_page(pdf_page, xres=res, yres=res)\n",
    "    pil_img = Image.frombytes(\"RGBA\", (pimg.width, pimg.height), pimg.data, \"raw\", str(pimg.format))\n",
    "    return pil_img.convert('F')\n",
    "\n",
    "\n",
    "pdfs = glob.glob('../resources/*.pdf')[:-1]\n",
    "pages = sum([[render_page(pdf.create_page(i), 115) for i in range(pdf.pages)] for pdf in\n",
    "             map(lambda x: poppler.load_from_file(x), pdfs)], [])\n",
    "print(f'{len(pages)=}')\n",
    "\n",
    "display(f'First Page {np.asarray(pages[0]).shape}')\n",
    "display(pages[0].convert('L'))\n"
   ]
  },
  {
   "cell_type": "code",
   "execution_count": null,
   "metadata": {
    "pycharm": {
     "name": "#%%\n"
    }
   },
   "outputs": [],
   "source": [
    "def split_image(array: np.ndarray):\n",
    "    sections = np.asarray(np.array_split(array[:-(array.shape[0] % INPUT_SIZE)], array.shape[0] // INPUT_SIZE, axis=0))\n",
    "    sections = np.asarray(\n",
    "        [np.array_split(array[:, :-(array.shape[1] % INPUT_SIZE)], array.shape[1] // INPUT_SIZE, axis=1)\n",
    "         for array in sections]\n",
    "    )\n",
    "    return sections.reshape((np.prod(sections.shape[:2]), *sections.shape[2:]))\n",
    "\n",
    "\n",
    "images = [split_image(np.asarray(page)) for page in pages]\n",
    "images = np.concatenate(images, 0)\n",
    "\n",
    "images = images[np.argsort(images.mean(axis=-1).mean(axis=-1))[:int(0.8 * images.shape[0])]]\n",
    "print(images.shape)\n",
    "\n",
    "display('Random Sections')\n",
    "fig, axs = plt.subplots(5, 5, figsize=(15, 15))\n",
    "for ax in axs.reshape(-1):\n",
    "    ax.imshow(random.choice(images), cmap='Greys')\n",
    "plt.show()\n",
    "\n",
    "display('Rotated Sections')\n",
    "fig, axs = plt.subplots(5, 5, figsize=(15, 15))\n",
    "for ax in axs.reshape(-1):\n",
    "    image = Image.fromarray(random.choice(images))\n",
    "    image = image.rotate(360 * random.random(), fillcolor=255.)\n",
    "    ax.imshow(np.asarray(image), cmap='Greys')\n",
    "plt.show()"
   ]
  },
  {
   "cell_type": "code",
   "execution_count": null,
   "metadata": {
    "pycharm": {
     "name": "#%%\n"
    }
   },
   "outputs": [],
   "source": [
    "model = tf.keras.Sequential([\n",
    "    tf.keras.layers.Input((INPUT_SIZE, INPUT_SIZE, 1)),\n",
    "    tf.keras.layers.Conv2D(64, 3, activation='relu'),\n",
    "    tf.keras.layers.Conv2D(64, 3, activation='relu'),\n",
    "    tf.keras.layers.BatchNormalization(),\n",
    "    tf.keras.layers.Conv2D(96, 3, activation='relu'),\n",
    "    tf.keras.layers.MaxPool2D(),\n",
    "    tf.keras.layers.Conv2D(96, 3, activation='relu'),\n",
    "    tf.keras.layers.Conv2D(128, 3, activation='relu'),\n",
    "    tf.keras.layers.MaxPool2D(),\n",
    "    tf.keras.layers.Conv2D(128, 3, activation='relu'),\n",
    "    tf.keras.layers.BatchNormalization(),\n",
    "    tf.keras.layers.Conv2D(128, 3, activation='relu'),\n",
    "    tf.keras.layers.MaxPool2D(),\n",
    "    tf.keras.layers.Conv2D(256, 3, activation='relu'),\n",
    "    tf.keras.layers.MaxPool2D(),\n",
    "    tf.keras.layers.Conv2D(256, 3, activation='relu'),\n",
    "    tf.keras.layers.Conv2D(128, 3, activation='relu'),\n",
    "    tf.keras.layers.MaxPool2D(),\n",
    "    tf.keras.layers.Flatten(),\n",
    "    tf.keras.layers.Dense(64, activation='relu'),\n",
    "    tf.keras.layers.Dense(64, activation='relu'),\n",
    "    tf.keras.layers.Dense(RESOLUTION),\n",
    "])\n",
    "\n",
    "model.summary()\n",
    "model.compile(optimizer='adam', loss=tf.losses.SparseCategoricalCrossentropy(from_logits=True), metrics='accuracy')"
   ]
  },
  {
   "cell_type": "code",
   "execution_count": null,
   "metadata": {
    "pycharm": {
     "name": "#%%\n"
    }
   },
   "outputs": [],
   "source": [
    "for _ in range(3):\n",
    "    rotations = np.random.random(N_SAMPLES)\n",
    "    y = (rotations * RESOLUTION).astype(int)\n",
    "    x = np.asarray([np.asarray(Image.fromarray(random.choice(images)).rotate(360 * r)) for r in rotations]) / 255.\n",
    "    model.fit(x, y, epochs=10)"
   ]
  },
  {
   "cell_type": "code",
   "execution_count": null,
   "metadata": {
    "pycharm": {
     "name": "#%%\n"
    }
   },
   "outputs": [],
   "source": [
    "model_name = f'../models/cnn_{datetime.datetime.now():%Y%m%d%H%M}'\n",
    "model.save(model_name)"
   ]
  },
  {
   "cell_type": "code",
   "execution_count": null,
   "metadata": {
    "pycharm": {
     "name": "#%%\n"
    }
   },
   "outputs": [],
   "source": [
    "model_name = sorted(glob.glob(f'../models/*'))[-1]\n",
    "print(model_name)"
   ]
  },
  {
   "cell_type": "code",
   "execution_count": null,
   "metadata": {
    "pycharm": {
     "name": "#%%\n"
    }
   },
   "outputs": [],
   "source": [
    "model = tf.keras.models.load_model(model_name)"
   ]
  },
  {
   "cell_type": "code",
   "execution_count": null,
   "metadata": {
    "pycharm": {
     "name": "#%%\n"
    }
   },
   "outputs": [],
   "source": [
    "fig, axs = plt.subplots(10, 2, figsize=(8, 20))\n",
    "for in_ax, out_ax in axs:\n",
    "    rotation = 360 * random.random()\n",
    "    image = Image.fromarray(random.choice(images)).rotate(rotation, fillcolor=255.)\n",
    "    array = np.asarray(image)\n",
    "    in_ax.imshow(array, cmap='Greys')\n",
    "\n",
    "    samples = [\n",
    "        np.asarray(Image.fromarray(random.choice(images)).rotate(rotation, fillcolor=255.))\n",
    "        for _ in range(50)\n",
    "    ]\n",
    "\n",
    "    prediction = 360 * model.predict(np.asarray(samples))\n",
    "    predicted_rotation = 360 * prediction.sum(axis=0).argmax() / RESOLUTION\n",
    "    out_ax.imshow(image.rotate(-predicted_rotation, fillcolor=255.), cmap='Greys')\n",
    "plt.show()"
   ]
  },
  {
   "cell_type": "code",
   "execution_count": null,
   "metadata": {
    "pycharm": {
     "name": "#%%\n"
    }
   },
   "outputs": [],
   "source": [
    "converter = tf.lite.TFLiteConverter.from_saved_model(model_name)\n",
    "\n",
    "with open(f'{model_name}/model.tflite', 'wb') as f:\n",
    "    f.write(converter.convert())\n",
    "\n",
    "converter.optimizations = [tf.lite.Optimize.DEFAULT]\n",
    "\n",
    "with open(f'{model_name}/optimized_model.tflite', 'wb') as f:\n",
    "    f.write(converter.convert())"
   ]
  },
  {
   "cell_type": "code",
   "execution_count": null,
   "metadata": {
    "pycharm": {
     "name": "#%%\n"
    }
   },
   "outputs": [],
   "source": [
    "class TFLiteModel:\n",
    "    def __init__(self, filename, threads=2):\n",
    "        self.interpreter = tf.lite.Interpreter(filename, num_threads=threads)\n",
    "        self.interpreter.allocate_tensors()\n",
    "\n",
    "        self.inputs = self.interpreter.get_input_details()\n",
    "        self.outputs = self.interpreter.get_output_details()\n",
    "\n",
    "    def __call__(self, x: np.ndarray):\n",
    "        self.interpreter.set_tensor(self.inputs[0]['index'], x)\n",
    "        self.interpreter.invoke()\n",
    "        return self.interpreter.get_tensor(self.outputs[0]['index'])\n"
   ]
  },
  {
   "cell_type": "code",
   "execution_count": null,
   "metadata": {
    "pycharm": {
     "name": "#%%\n"
    }
   },
   "outputs": [],
   "source": [
    "tflite_model = TFLiteModel(f'{model_name}/model.tflite', 2)\n",
    "\n",
    "fig, axs = plt.subplots(5, 2, figsize=(8, 20))\n",
    "for in_ax, out_ax in axs:\n",
    "    rotation = 360 * random.random()\n",
    "    image = Image.fromarray(random.choice(images)).rotate(rotation, fillcolor=255.)\n",
    "    array = np.asarray(image)\n",
    "    in_ax.imshow(array, cmap='Greys')\n",
    "\n",
    "    samples = np.array([\n",
    "        np.asarray(Image.fromarray(random.choice(images)).rotate(rotation, fillcolor=255.))\n",
    "        for _ in range(10)\n",
    "    ])\n",
    "\n",
    "    samples = np.expand_dims(samples, -1)\n",
    "    prediction = np.array([tflite_model([sample]) for sample in samples])\n",
    "    print(prediction.shape)\n",
    "    predicted_rotation = 360 * prediction.sum(axis=0).argmax() / (RESOLUTION + 0.5)\n",
    "    out_ax.imshow(image.rotate(-predicted_rotation, fillcolor=255.), cmap='Greys')\n",
    "plt.show()"
   ]
  }
 ],
 "metadata": {
  "kernelspec": {
   "display_name": "Python 3 (ipykernel)",
   "language": "python",
   "name": "python3"
  },
  "language_info": {
   "codemirror_mode": {
    "name": "ipython",
    "version": 3
   },
   "file_extension": ".py",
   "mimetype": "text/x-python",
   "name": "python",
   "nbconvert_exporter": "python",
   "pygments_lexer": "ipython3",
   "version": "3.10.9"
  }
 },
 "nbformat": 4,
 "nbformat_minor": 1
}
